{
 "cells": [
  {
   "attachments": {},
   "cell_type": "markdown",
   "metadata": {},
   "source": [
    "# Draft analysis \n",
    "\n",
    "---\n",
    "\n",
    "Group name: Gruppe B Raghid Allaham & Niels-Janos Simmet\n",
    "\n",
    "---\n"
   ]
  },
  {
   "attachments": {},
   "cell_type": "markdown",
   "metadata": {},
   "source": [
    "## Introduction\n",
    "\n",
    "*This section includes an introduction to the project motivation, data, and research question. Include a data dictionary* \n",
    "Over the last couple of years American Football gained a lot of popularity in Europe especially Germany. Different than soccer, American football is a play based game. After each play the game gets interupted for the offense and defense to set up their team once again. The goal is to achieve a touchdown on the opponents endzone. To achieve that the offense works its way across the field play by play. With each play the offense tries to gain as many yards as possible while the defense tries to prevent this. There are 2 main kind of plays to gain yards: rushing and passing. For a rush plays the offensive team tries to gain yards by caring the ball. For pass plays the quarterback of the offensive team will throw to ball to another player. The key difference is the that for rushing plays the ball will not be airborn but handed over. \n",
    "\n",
    "*We want to find out if there is a way to predict how many yards a team will gain based on variables that we know before the play starts.*\n",
    "\n",
    "Other people have already researched similiar questions but i.e. focused on predicting the rushing yards. We focus on yards generally gained no matter if rushed or passed, as this can not be determined before the play starts. Interesting links to check out for similiar analysis:\n",
    "\n",
    "http://cs229.stanford.edu/proj2019aut/data/assignment_308832_raw/26588266.pdf\n",
    "\n",
    "https://rpubs.com/woutcault/Final606_Multiple_Regression\n",
    "\n",
    "https://medium.com/@matthewdmeans/predicting-yards-gained-in-the-nfl-3a0eea7a54a3"
   ]
  },
  {
   "attachments": {},
   "cell_type": "markdown",
   "metadata": {},
   "source": [
    "### Data Description\n",
    "\n",
    "For NFL matches there is a comprehensive data asset available that includes play-by-play data, we will focus on the data gathered so far (until 6th December 2022) in the 2022 NFL season. It tracks a multitude of variables for each play. For our analysis we will focus on the variables that are know before the play starts as explanatory variables and the yards gained as the response variable.\n",
    "The data was scraped from the NFL Next Gen Stats website with the NFL verse package.\n",
    "\n",
    "Data Source https://github.com/nflverse/nflverse-data/releases/tag/pbp\n",
    "\n",
    "Data Description https://mrcaseb.github.io/pages_dummy/reference/fast_scraper.html\n",
    "\n",
    "Our response variable will be \"yards-gained\" this variable describes how many yards a team gained (or lost) in a play excluding yards gained via fumble recoveries and laterals.\n",
    "\n",
    "#### Our possible explanatory variables are:\n",
    "\n",
    "\n",
    "\"quarter_seconds_remaining\" - Seconds on the clock until the quarter ends\n",
    "\n",
    "\"qtr\" - Current quater 1-4 and 5 for overtime\n",
    "\n",
    "\"down\" - Current down\n",
    "\n",
    "\"yardline_100\" - Distance to the opponents endzone in yards\n",
    "\n",
    "\"ydstogo\" - Yards to the next first down\n",
    "\n",
    "\"score_differential\" - Score difference between offense team and the defense team\n",
    "\n",
    "(\"posteam\") - Offense Team (We have not yet decided if we want to differentiate by teams)\n",
    "\n",
    "(\"defteam\") - Defense Team (We have not yet decided if we want to differentiate by teams)\n",
    "\n",
    "(\"home_team\") - Home Team (We have not yet decided if we want to differentiate by teams)\n",
    "\n",
    "(\"away_team\") - Guest/Away Team (We have not yet decided if we want to differentiate by teams)\n",
    "\n",
    "(\"weather\") - Weather conditions (We are not yet sure if we want to include this variable)"
   ]
  },
  {
   "attachments": {},
   "cell_type": "markdown",
   "metadata": {},
   "source": [
    "#### Data Dictionary"
   ]
  },
  {
   "cell_type": "code",
   "execution_count": 1,
   "metadata": {},
   "outputs": [
    {
     "data": {
      "text/html": [
       "<div>\n",
       "<style scoped>\n",
       "    .dataframe tbody tr th:only-of-type {\n",
       "        vertical-align: middle;\n",
       "    }\n",
       "\n",
       "    .dataframe tbody tr th {\n",
       "        vertical-align: top;\n",
       "    }\n",
       "\n",
       "    .dataframe thead th {\n",
       "        text-align: right;\n",
       "    }\n",
       "</style>\n",
       "<table border=\"1\" class=\"dataframe\">\n",
       "  <thead>\n",
       "    <tr style=\"text-align: right;\">\n",
       "      <th></th>\n",
       "      <th>Name</th>\n",
       "      <th>Description</th>\n",
       "      <th>Role</th>\n",
       "      <th>Type</th>\n",
       "      <th>Format</th>\n",
       "    </tr>\n",
       "  </thead>\n",
       "  <tbody>\n",
       "    <tr>\n",
       "      <th>0</th>\n",
       "      <td>yards_gained</td>\n",
       "      <td>Yards gained/lost in the play excluding yards ...</td>\n",
       "      <td>Response</td>\n",
       "      <td>numeric</td>\n",
       "      <td>float64</td>\n",
       "    </tr>\n",
       "    <tr>\n",
       "      <th>1</th>\n",
       "      <td>quarter_seconds_remaining</td>\n",
       "      <td>Seconds on the clock until the quarter ends</td>\n",
       "      <td>Predictor</td>\n",
       "      <td>numeric</td>\n",
       "      <td>int64</td>\n",
       "    </tr>\n",
       "    <tr>\n",
       "      <th>2</th>\n",
       "      <td>qtr</td>\n",
       "      <td>Current quater 1-4 and 5 for overtime</td>\n",
       "      <td>Predictor</td>\n",
       "      <td>numeric</td>\n",
       "      <td>int64</td>\n",
       "    </tr>\n",
       "    <tr>\n",
       "      <th>3</th>\n",
       "      <td>down</td>\n",
       "      <td>Current down</td>\n",
       "      <td>Predictor</td>\n",
       "      <td>numeric</td>\n",
       "      <td>float64</td>\n",
       "    </tr>\n",
       "    <tr>\n",
       "      <th>4</th>\n",
       "      <td>yardline_100</td>\n",
       "      <td>Distance to the opponents endzone in yards</td>\n",
       "      <td>Predictor</td>\n",
       "      <td>numeric</td>\n",
       "      <td>float64</td>\n",
       "    </tr>\n",
       "    <tr>\n",
       "      <th>5</th>\n",
       "      <td>ydstogo</td>\n",
       "      <td>Yards to the next first down</td>\n",
       "      <td>Predictor</td>\n",
       "      <td>numeric</td>\n",
       "      <td>int64</td>\n",
       "    </tr>\n",
       "    <tr>\n",
       "      <th>6</th>\n",
       "      <td>score_differential</td>\n",
       "      <td>Score difference between offense team and the ...</td>\n",
       "      <td>Predictor</td>\n",
       "      <td>numeric</td>\n",
       "      <td>float64</td>\n",
       "    </tr>\n",
       "    <tr>\n",
       "      <th>7</th>\n",
       "      <td>(posteam)</td>\n",
       "      <td>Offense Team (We have not yet decided if we wa...</td>\n",
       "      <td>Predictor</td>\n",
       "      <td>nominal</td>\n",
       "      <td>object</td>\n",
       "    </tr>\n",
       "    <tr>\n",
       "      <th>8</th>\n",
       "      <td>(defteam)</td>\n",
       "      <td>Defense Team (We have not yet decided if we wa...</td>\n",
       "      <td>Predictor</td>\n",
       "      <td>nominal</td>\n",
       "      <td>object</td>\n",
       "    </tr>\n",
       "    <tr>\n",
       "      <th>9</th>\n",
       "      <td>(home_team)</td>\n",
       "      <td>Home Team (We have not yet decided if we want ...</td>\n",
       "      <td>Predictor</td>\n",
       "      <td>nominal</td>\n",
       "      <td>object</td>\n",
       "    </tr>\n",
       "    <tr>\n",
       "      <th>10</th>\n",
       "      <td>(away_team)</td>\n",
       "      <td>Guest/Away Team (We have not yet decided if we...</td>\n",
       "      <td>Predictor</td>\n",
       "      <td>nominal</td>\n",
       "      <td>object</td>\n",
       "    </tr>\n",
       "    <tr>\n",
       "      <th>11</th>\n",
       "      <td>(weather)</td>\n",
       "      <td>Weather conditions (We are not yet sure if we ...</td>\n",
       "      <td>Predictor</td>\n",
       "      <td>includes nominal and numeric</td>\n",
       "      <td>object</td>\n",
       "    </tr>\n",
       "  </tbody>\n",
       "</table>\n",
       "</div>"
      ],
      "text/plain": [
       "                         Name  \\\n",
       "0                yards_gained   \n",
       "1   quarter_seconds_remaining   \n",
       "2                         qtr   \n",
       "3                        down   \n",
       "4                yardline_100   \n",
       "5                     ydstogo   \n",
       "6          score_differential   \n",
       "7                   (posteam)   \n",
       "8                   (defteam)   \n",
       "9                 (home_team)   \n",
       "10                (away_team)   \n",
       "11                  (weather)   \n",
       "\n",
       "                                          Description       Role  \\\n",
       "0   Yards gained/lost in the play excluding yards ...   Response   \n",
       "1         Seconds on the clock until the quarter ends  Predictor   \n",
       "2               Current quater 1-4 and 5 for overtime  Predictor   \n",
       "3                                        Current down  Predictor   \n",
       "4          Distance to the opponents endzone in yards  Predictor   \n",
       "5                        Yards to the next first down  Predictor   \n",
       "6   Score difference between offense team and the ...  Predictor   \n",
       "7   Offense Team (We have not yet decided if we wa...  Predictor   \n",
       "8   Defense Team (We have not yet decided if we wa...  Predictor   \n",
       "9   Home Team (We have not yet decided if we want ...  Predictor   \n",
       "10  Guest/Away Team (We have not yet decided if we...  Predictor   \n",
       "11  Weather conditions (We are not yet sure if we ...  Predictor   \n",
       "\n",
       "                            Type   Format  \n",
       "0                        numeric  float64  \n",
       "1                        numeric    int64  \n",
       "2                        numeric    int64  \n",
       "3                        numeric  float64  \n",
       "4                        numeric  float64  \n",
       "5                        numeric    int64  \n",
       "6                        numeric  float64  \n",
       "7                        nominal   object  \n",
       "8                        nominal   object  \n",
       "9                        nominal   object  \n",
       "10                       nominal   object  \n",
       "11  includes nominal and numeric   object  "
      ]
     },
     "execution_count": 1,
     "metadata": {},
     "output_type": "execute_result"
    }
   ],
   "source": [
    "#Import libraries\n",
    "import pandas as pd\n",
    "\n",
    "#Create Data Frame\n",
    "data = {\n",
    "    \"Name\":[\n",
    "        \"yards_gained\",\n",
    "        \"quarter_seconds_remaining\",\n",
    "        \"qtr\",\n",
    "        \"down\",\n",
    "        \"yardline_100\",\n",
    "        \"ydstogo\",\n",
    "        \"score_differential\",\n",
    "        \"(posteam)\",\n",
    "        \"(defteam)\",\n",
    "        \"(home_team)\",\n",
    "        \"(away_team)\",\n",
    "        \"(weather)\"\n",
    "\n",
    "    ],\n",
    "\n",
    "    \"Description\":[\n",
    "        \"Yards gained/lost in the play excluding yards gained via fumble recoveries and laterals\",\n",
    "        \"Seconds on the clock until the quarter ends\",\n",
    "        \"Current quater 1-4 and 5 for overtime\",\n",
    "        \"Current down\",\n",
    "        \"Distance to the opponents endzone in yards\",\n",
    "        \"Yards to the next first down\",\n",
    "        \"Score difference between offense team and the defense team\",\n",
    "        \"Offense Team (We have not yet decided if we want to differentiate by teams)\",\n",
    "        \"Defense Team (We have not yet decided if we want to differentiate by teams)\",\n",
    "        \"Home Team (We have not yet decided if we want to differentiate by teams)\",\n",
    "        \"Guest/Away Team (We have not yet decided if we want to differentiate by teams)\",\n",
    "        \"Weather conditions (We are not yet sure if we want to include this variable)\"\n",
    "    ],\n",
    "\n",
    "    \"Role\":[\n",
    "        \"Response\",\n",
    "        \"Predictor\",\n",
    "        \"Predictor\",\n",
    "        \"Predictor\",\n",
    "        \"Predictor\",\n",
    "        \"Predictor\",\n",
    "        \"Predictor\",\n",
    "        \"Predictor\",\n",
    "        \"Predictor\",\n",
    "        \"Predictor\",\n",
    "        \"Predictor\",\n",
    "        \"Predictor\"\n",
    "    ],\n",
    "\n",
    "    \"Type\":[\n",
    "        \"numeric\",\n",
    "        \"numeric\",\n",
    "        \"numeric\",\n",
    "        \"numeric\",\n",
    "        \"numeric\",\n",
    "        \"numeric\",\n",
    "        \"numeric\",\n",
    "        \"nominal\",\n",
    "        \"nominal\",\n",
    "        \"nominal\",\n",
    "        \"nominal\",\n",
    "        \"includes nominal and numeric\"        \n",
    "    ],\n",
    "\n",
    "    \"Format\":[\n",
    "        \"float64\",\n",
    "        \"int64\",\n",
    "        \"int64\",\n",
    "        \"float64\",\n",
    "        \"float64\",\n",
    "        \"int64\",\n",
    "        \"float64\",\n",
    "        \"object\",\n",
    "        \"object\",\n",
    "        \"object\",\n",
    "        \"object\",\n",
    "        \"object\"\n",
    "    ]\n",
    "}\n",
    "\n",
    "data_dictionary = pd.DataFrame(data)\n",
    "\n",
    "data_dictionary"
   ]
  },
  {
   "cell_type": "markdown",
   "metadata": {},
   "source": [
    "## Setup"
   ]
  },
  {
   "cell_type": "code",
   "execution_count": null,
   "metadata": {},
   "outputs": [],
   "source": [
    "#Import libraries\n",
    "import pandas as pd\n",
    "import altair as alt\n",
    "import warnings\n",
    "\n",
    "alt.data_transformers.disable_max_rows()\n",
    "warnings.simplefilter(action='ignore', category=FutureWarning)"
   ]
  },
  {
   "cell_type": "markdown",
   "metadata": {},
   "source": [
    "## Data"
   ]
  },
  {
   "cell_type": "markdown",
   "metadata": {},
   "source": [
    "## Import data"
   ]
  },
  {
   "cell_type": "code",
   "execution_count": null,
   "metadata": {},
   "outputs": [],
   "source": [
    "# Loading Data\n",
    "path = \"..\\\\data\\\\raw\\\\play_by_play_2022.csv\"\n",
    "df = pd.read_csv(path, low_memory=False)"
   ]
  },
  {
   "cell_type": "markdown",
   "metadata": {},
   "source": [
    "### Data structure"
   ]
  },
  {
   "cell_type": "code",
   "execution_count": null,
   "metadata": {},
   "outputs": [],
   "source": [
    "df.info()"
   ]
  },
  {
   "cell_type": "markdown",
   "metadata": {},
   "source": [
    "### Data corrections"
   ]
  },
  {
   "cell_type": "code",
   "execution_count": null,
   "metadata": {},
   "outputs": [],
   "source": [
    "# Select the relevant variables\n",
    "column_selection = [\n",
    "\"yards_gained\",\n",
    "\"home_team\",\n",
    "\"away_team\",\n",
    "\"quarter_seconds_remaining\",\n",
    "\"qtr\",\n",
    "\"down\",\n",
    "\"yardline_100\",\n",
    "\"ydstogo\",\n",
    "\"posteam\",\n",
    "\"defteam\",\n",
    "\"score_differential\",\n",
    "\"weather\"\n",
    "]\n",
    "\n",
    "# Filter dataframe for relevant variables\n",
    "df_small = df[column_selection]\n",
    "\n",
    "# drop rows with missing values\n",
    "df_small.dropna(inplace=True)"
   ]
  },
  {
   "cell_type": "markdown",
   "metadata": {},
   "source": [
    "### Variable lists"
   ]
  },
  {
   "cell_type": "code",
   "execution_count": null,
   "metadata": {},
   "outputs": [],
   "source": []
  },
  {
   "cell_type": "markdown",
   "metadata": {},
   "source": [
    "### Data splitting"
   ]
  },
  {
   "cell_type": "code",
   "execution_count": null,
   "metadata": {},
   "outputs": [],
   "source": []
  },
  {
   "cell_type": "markdown",
   "metadata": {},
   "source": [
    "## Analysis"
   ]
  },
  {
   "cell_type": "markdown",
   "metadata": {},
   "source": [
    "### Descriptive statistics"
   ]
  },
  {
   "cell_type": "code",
   "execution_count": null,
   "metadata": {},
   "outputs": [],
   "source": [
    "# Summary statistics\n",
    "print(df_small.mean())\n",
    "\n",
    "df_small.describe().T"
   ]
  },
  {
   "cell_type": "markdown",
   "metadata": {},
   "source": [
    "### Exploratory data analysis"
   ]
  },
  {
   "cell_type": "code",
   "execution_count": null,
   "metadata": {},
   "outputs": [],
   "source": [
    "# Histogram Occurency of Yards gained\n",
    "df_tmp=df_small\n",
    "\n",
    "alt.Chart(df_tmp).mark_bar().encode(\n",
    "    x=alt.X(\"yards_gained\"),\n",
    "    y=alt.Y('count()'),\n",
    "\n",
    ").interactive()"
   ]
  },
  {
   "cell_type": "code",
   "execution_count": null,
   "metadata": {},
   "outputs": [],
   "source": [
    "# Histogram Occurency of Yards gained without plays were no yards were gained/lost\n",
    "df_tmp=df_small.loc[df.yards_gained != 0]\n",
    "\n",
    "alt.Chart(df_tmp).mark_bar().encode(\n",
    "    x=alt.X(\"yards_gained\"),\n",
    "    y=alt.Y('count()'),\n",
    ").interactive()"
   ]
  },
  {
   "cell_type": "code",
   "execution_count": null,
   "metadata": {},
   "outputs": [],
   "source": [
    "# Histogram Occurency of Yards gained with logarithmic scale on y-axis\n",
    "df_tmp=df_small\n",
    "alt.Chart(df_tmp).mark_bar().encode(\n",
    "    x=alt.X(\"yards_gained\"),\n",
    "    y=alt.Y('count()',       \n",
    "            scale=alt.Scale(type='symlog"
   ]
  },
  {
   "cell_type": "code",
   "execution_count": null,
   "metadata": {},
   "outputs": [],
   "source": [
    "#Propability that a team gains yards with a play\n",
    "\n",
    "print(\"Propability that a team gains yards with a play: \" + str(round((len(df_small.loc[df_small.yards_gained > 0])  / len(df_small)) * 100, 2) ))"
   ]
  },
  {
   "cell_type": "markdown",
   "metadata": {},
   "source": [
    "### Relationships"
   ]
  },
  {
   "cell_type": "code",
   "execution_count": null,
   "metadata": {},
   "outputs": [],
   "source": [
    "# Explorative analysis of correlation between the variables\n",
    "\n",
    "list_numeric = [\"yards_gained\",\n",
    "\"quarter_seconds_remaining\",\n",
    "\"qtr\",\n",
    "\"down\",\n",
    "\"yardline_100\",\n",
    "\"ydstogo\",\n",
    "\"score_differential\"\n",
    "]\n",
    "alt.Chart(df_small).mark_circle().encode(\n",
    "    x=alt.X(alt.repeat(\"column\"), \n",
    "            type='quantitative',\n",
    "            scale=alt.Scale(zero=False)\n",
    "            ),\n",
    "    y=alt.Y(alt.repeat(\"row\"), \n",
    "            type='quantitative',\n",
    "            scale=alt.Scale(zero=False)\n",
    "             )\n",
    ").properties(\n",
    "    width=150,\n",
    "    height=150\n",
    ").repeat(\n",
    "    row=list_numeric,\n",
    "    column=list_numeric\n",
    ")"
   ]
  },
  {
   "cell_type": "code",
   "execution_count": null,
   "metadata": {},
   "outputs": [],
   "source": [
    "# Correlation Matrix\n",
    "\n",
    "corr = df_small[list_numeric].corr(method='pearson').round(2)\n",
    "corr = corr.style.background_gradient(cmap='Blues')\n",
    "corr"
   ]
  },
  {
   "cell_type": "markdown",
   "metadata": {},
   "source": [
    "## Model"
   ]
  },
  {
   "cell_type": "markdown",
   "metadata": {},
   "source": [
    "### Select model"
   ]
  },
  {
   "cell_type": "code",
   "execution_count": null,
   "metadata": {},
   "outputs": [],
   "source": []
  },
  {
   "cell_type": "markdown",
   "metadata": {},
   "source": [
    "### Training and validation"
   ]
  },
  {
   "cell_type": "code",
   "execution_count": null,
   "metadata": {},
   "outputs": [],
   "source": []
  },
  {
   "cell_type": "markdown",
   "metadata": {},
   "source": [
    "### Fit model"
   ]
  },
  {
   "cell_type": "code",
   "execution_count": null,
   "metadata": {},
   "outputs": [],
   "source": []
  },
  {
   "cell_type": "markdown",
   "metadata": {},
   "source": [
    "### Evaluation on test set"
   ]
  },
  {
   "cell_type": "code",
   "execution_count": null,
   "metadata": {},
   "outputs": [],
   "source": []
  },
  {
   "cell_type": "markdown",
   "metadata": {},
   "source": [
    "### Save model\n"
   ]
  },
  {
   "cell_type": "markdown",
   "metadata": {},
   "source": [
    "\n",
    "Save your model in the folder `models/`. Use a meaningful name and a timestamp."
   ]
  },
  {
   "cell_type": "code",
   "execution_count": null,
   "metadata": {},
   "outputs": [],
   "source": []
  },
  {
   "cell_type": "markdown",
   "metadata": {},
   "source": [
    "## Conclusions"
   ]
  },
  {
   "cell_type": "markdown",
   "metadata": {},
   "source": []
  }
 ],
 "metadata": {
  "kernelspec": {
   "display_name": "stats",
   "language": "python",
   "name": "python3"
  },
  "language_info": {
   "codemirror_mode": {
    "name": "ipython",
    "version": 3
   },
   "file_extension": ".py",
   "mimetype": "text/x-python",
   "name": "python",
   "nbconvert_exporter": "python",
   "pygments_lexer": "ipython3",
   "version": "3.9.15"
  },
  "orig_nbformat": 4,
  "vscode": {
   "interpreter": {
    "hash": "d9884a62c19972171f0d1958477c41298d3e2ebaa28428d27df986052ce483ca"
   }
  }
 },
 "nbformat": 4,
 "nbformat_minor": 2
}
