{
 "cells": [
  {
   "cell_type": "code",
   "execution_count": null,
   "metadata": {},
   "outputs": [],
   "source": []
  },
  {
   "attachments": {},
   "cell_type": "markdown",
   "metadata": {},
   "source": [
    "### Peer review team\n",
    "\n",
    "- Peer review by: Group B\n",
    "- Names of team members that participated in this review: Niels-Janos Simmet & Raghid Allaham\n",
    "\n",
    "### Goal of the project\n",
    "\n",
    "1) Predict if two peopol of opposite sex are having a \"match\" based on certin attributes.\n",
    "2) Find out what are the most importent attributes to get a match in opposite sex speed dating.\n",
    "3) Proof of correctness of the following hypotheses:\n",
    "-   Survey participants who both have the specific characteristics samerace and opposite gender tend to achieve more matches\n",
    "-   Survey participants with a higher income tend to achieve more matches than survey participants with a lower income\n",
    "-   Achieving matches because of having the same specific characteristics occur in both sexes\n",
    "-   Three weeks after the event, males called women more often\n",
    "\n",
    "### Data\n",
    "\n",
    "Fisman et al. conducted a survey regarding speed dating habits and collected 8,000 observations.\n",
    "These data were collected from participants in experimental speed dating events held in 2002-2004. In these events, participants had a four-minute \"first date\" with each other participant of the opposite sex. At the end of the four minutes, participants were asked if they would like to see their date again. They were also asked to rate their date on some characteristics.\n",
    "\n",
    "Data: https://perso.telecom-paristech.fr/eagan/class/igr204/datasets/SpeedDating.csv\n",
    "\n",
    "\n",
    "### Approach, tools and methods\n",
    "\n",
    "\n",
    "### Lack of clarity\n",
    "\n",
    "- No clear definition, what does \"mach\" mean?  \n",
    "\n",
    "- The main question task could be clearer (prediction of \"mach\" depending on some attributes).\n",
    "\n",
    "### Possible improvements\n",
    "\n",
    "- In addition, you could have separated the data by gender to see how differently genders react to characteristics. (example hypothesis: men don't like it when a woman is ambitious.) plot a correlation matrix per gender and examine which attributes are most important to a woman and which attributes are important to a man. Doing so would answer the research question: \"Do these specific characteristics occur in both sexes?\". \n",
    "\n",
    "- You should show the original data set with its original characteristics so the reader can understand why you chose your subset of variables.\n",
    "\n",
    "- You could try including more / other variables in your models and see if the performance changes. This could lead to a different conclusion, or you could use backward or forward selection to select the variables\n",
    "\n",
    "### Presentation\n",
    "\n",
    "- The most interesting part is how to answer the research question.\n",
    " Is something similar already being used by dating apps? If so, what kind of data are they using?\n",
    " \n",
    "- And what could be done to further improve the models to compare the two. What could be the next steps for a follow up project.\n",
    "\n",
    "### Organization\n",
    "\n",
    "\n",
    "### Further comments\n"
   ]
  }
 ],
 "metadata": {
  "kernelspec": {
   "display_name": "stats",
   "language": "python",
   "name": "python3"
  },
  "language_info": {
   "name": "python",
   "version": "3.9.15 (main, Nov  4 2022, 16:35:55) [MSC v.1916 64 bit (AMD64)]"
  },
  "orig_nbformat": 4,
  "vscode": {
   "interpreter": {
    "hash": "b84b06b5c092b4f2277001af2173ac67f54caa5785adc1a9c4511488f1de128b"
   }
  }
 },
 "nbformat": 4,
 "nbformat_minor": 2
}
